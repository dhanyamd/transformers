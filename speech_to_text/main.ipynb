{
 "cells": [
  {
   "cell_type": "code",
   "execution_count": 1,
   "id": "688af9f7",
   "metadata": {},
   "outputs": [
    {
     "name": "stderr",
     "output_type": "stream",
     "text": [
      "c:\\Users\\Dell\\AppData\\Local\\Programs\\Python\\Python310\\lib\\site-packages\\tqdm\\auto.py:21: TqdmWarning: IProgress not found. Please update jupyter and ipywidgets. See https://ipywidgets.readthedocs.io/en/stable/user_install.html\n",
      "  from .autonotebook import tqdm as notebook_tqdm\n",
      "Downloading metadata: 1.15kB [00:00, 384kB/s]\n"
     ]
    }
   ],
   "source": [
    "import datasets  \n",
    "dataset = datasets.load_dataset(\n",
    "    \"m-aliabbas/idrak_timit_subsample1\",\n",
    "    split=\"train\"\n",
    ")"
   ]
  },
  {
   "cell_type": "code",
   "execution_count": 2,
   "id": "9550d105",
   "metadata": {},
   "outputs": [],
   "source": [
    "data = next(iter(dataset))\n",
    "audio = data[\"audio\"][\"array\"]         # This is a NumPy array of audio samples\n",
    "sample_rate = data[\"audio\"][\"sampling_rate\"]  # This is the sample rate (e.g., 16000)\n",
    "transcript = data[\"transcription\"]  \n",
    "   # The transcript text"
   ]
  },
  {
   "cell_type": "code",
   "execution_count": 3,
   "id": "23ebae30",
   "metadata": {},
   "outputs": [
    {
     "name": "stdout",
     "output_type": "stream",
     "text": [
      "(35840,)\n",
      "16000\n",
      "Audio length(s):  2.24\n",
      "don t ask me to carry an oily rag like that\n"
     ]
    }
   ],
   "source": [
    "print(audio.shape)\n",
    "print(sample_rate) \n",
    "print(\"Audio length(s): \", audio.size / sample_rate)\n",
    "print(transcript)"
   ]
  },
  {
   "cell_type": "code",
   "execution_count": 17,
   "id": "02ffd344",
   "metadata": {},
   "outputs": [],
   "source": [
    "from tokenizers import Tokenizer, models, pre_tokenizers, decoders \n",
    "\n",
    "def get_tokenzier(save_path=\"tokenizer.json\"):\n",
    "    tokenizer = Tokenizer(models.BPE()) \n",
    "    tokenizer.add_special_tokens([\"□\"])\n",
    "    tokenizer.add_tokens(list(\"ABCDEFGHIJKLMNOPQRSTUVWXYZ '\"))\n",
    "\n",
    "    tokenizer.pre_tokenizer = pre_tokenizers.ByteLevel() \n",
    "    tokenizer.decoder = decoders.ByteLevel() \n",
    "    tokenizer.blank_token = tokenizer.token_to_id(\"□\")\n",
    "    tokenizer.save(save_path)\n",
    "    return tokenizer"
   ]
  },
  {
   "cell_type": "code",
   "execution_count": 18,
   "id": "bd46f021",
   "metadata": {},
   "outputs": [],
   "source": [
    "tokenizer = get_tokenzier()"
   ]
  },
  {
   "cell_type": "code",
   "execution_count": 19,
   "id": "8108e27f",
   "metadata": {},
   "outputs": [],
   "source": [
    "transcript = transcript.upper()\n",
    "input_ids = tokenizer.encode(transcript)"
   ]
  },
  {
   "cell_type": "code",
   "execution_count": 20,
   "id": "2576dfbb",
   "metadata": {},
   "outputs": [
    {
     "data": {
      "text/plain": [
       "'DON T ASK ME TO CARRY AN OILY RAG LIKE THAT'"
      ]
     },
     "execution_count": 20,
     "metadata": {},
     "output_type": "execute_result"
    }
   ],
   "source": [
    "transcript"
   ]
  },
  {
   "cell_type": "code",
   "execution_count": 21,
   "id": "233ee867",
   "metadata": {},
   "outputs": [
    {
     "data": {
      "text/plain": [
       "[4,\n",
       " 15,\n",
       " 14,\n",
       " 27,\n",
       " 20,\n",
       " 27,\n",
       " 1,\n",
       " 19,\n",
       " 11,\n",
       " 27,\n",
       " 13,\n",
       " 5,\n",
       " 27,\n",
       " 20,\n",
       " 15,\n",
       " 27,\n",
       " 3,\n",
       " 1,\n",
       " 18,\n",
       " 18,\n",
       " 25,\n",
       " 27,\n",
       " 1,\n",
       " 14,\n",
       " 27,\n",
       " 15,\n",
       " 9,\n",
       " 12,\n",
       " 25,\n",
       " 27,\n",
       " 18,\n",
       " 1,\n",
       " 7,\n",
       " 27,\n",
       " 12,\n",
       " 9,\n",
       " 11,\n",
       " 5,\n",
       " 27,\n",
       " 20,\n",
       " 8,\n",
       " 1,\n",
       " 20]"
      ]
     },
     "execution_count": 21,
     "metadata": {},
     "output_type": "execute_result"
    }
   ],
   "source": [
    "input_ids.ids"
   ]
  }
 ],
 "metadata": {
  "kernelspec": {
   "display_name": "Python 3",
   "language": "python",
   "name": "python3"
  },
  "language_info": {
   "codemirror_mode": {
    "name": "ipython",
    "version": 3
   },
   "file_extension": ".py",
   "mimetype": "text/x-python",
   "name": "python",
   "nbconvert_exporter": "python",
   "pygments_lexer": "ipython3",
   "version": "3.10.0"
  }
 },
 "nbformat": 4,
 "nbformat_minor": 5
}
