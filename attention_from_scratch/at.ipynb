{
 "cells": [
  {
   "cell_type": "code",
   "execution_count": 5,
   "id": "53900713",
   "metadata": {},
   "outputs": [],
   "source": [
    "import numpy as np \n",
    "import matplotlib.pyplot as plt #type: ignore \n",
    "np.set_printoptions(suppress=True)"
   ]
  },
  {
   "cell_type": "code",
   "execution_count": 6,
   "id": "e80dfd3b",
   "metadata": {},
   "outputs": [],
   "source": [
    "item1_embedding = np.array([1,2, -3, 4]) \n",
    "item2_embedding = np.array([2, -3, -2, 4])"
   ]
  },
  {
   "cell_type": "code",
   "execution_count": 7,
   "id": "8ac03cf1",
   "metadata": {},
   "outputs": [
    {
     "data": {
      "image/png": "[encoded data removed]",
      "text/plain": [
       "<Figure size 500x500 with 1 Axes>"
      ]
     },
     "metadata": {},
     "output_type": "display_data"
    }
   ],
   "source": [
    "def plot_embeddings(emb1, emb2): \n",
    "    plt.figure(figsize=(5,5)) \n",
    "    plt.bar(np.arange(len(emb1)), emb1, width=0.25, alpha=0.8, label='Item 1')\n",
    "    plt.bar(np.arange(len(emb2)) + 0.25, emb2, width=0.25, alpha=0.8, label='Item 2')\n",
    "    plt.axhline(0, color='black', linewidth=0.8)\n",
    "    plt.xticks([])\n",
    "    plt.legend() \n",
    "    plt.show() \n",
    "plot_embeddings(item1_embedding, item2_embedding)"
   ]
  },
  {
   "cell_type": "markdown",
   "id": "83c56af2",
   "metadata": {},
   "source": []
  },
  {
   "cell_type": "code",
   "execution_count": 8,
   "id": "b2608dcf",
   "metadata": {},
   "outputs": [
    {
     "name": "stdout",
     "output_type": "stream",
     "text": [
      "[ 2 -6  6 16]\n"
     ]
    }
   ],
   "source": [
    "product = item2_embedding * item1_embedding \n",
    "print(product)"
   ]
  },
  {
   "cell_type": "code",
   "execution_count": 9,
   "id": "d70eb249",
   "metadata": {},
   "outputs": [
    {
     "data": {
      "image/png": "[encoded data removed]",
      "text/plain": [
       "<Figure size 500x500 with 1 Axes>"
      ]
     },
     "metadata": {},
     "output_type": "display_data"
    }
   ],
   "source": [
    "plt.figure(figsize=(5,5)) \n",
    "plt.bar(np.arange(len(product)), product, width=0.25, alpha=0.8) \n",
    "plt.axhline(0, color='black', linewidth=0.8)\n",
    "for i, v in enumerate(product): \n",
    "    plt.text(i, v + 0.5 if v >= 0 else v - 1.5, v, ha='center')\n",
    "plt.xticks() \n",
    "plt.ylim(-8, 18)\n",
    "plt.show()"
   ]
  },
  {
   "cell_type": "code",
   "execution_count": 10,
   "id": "ff085cc1",
   "metadata": {},
   "outputs": [
    {
     "name": "stdout",
     "output_type": "stream",
     "text": [
      "item_embeddings.shape=(3, 4) search_embeddings.shape=(1, 4)products.shape=(3, 4)\n"
     ]
    }
   ],
   "source": [
    "item_embeddings = np.array([\n",
    "    [1, 2, -3, 4],\n",
    "    [2, -3, -2, 4],\n",
    "    [-1, -2, 3, -4] \n",
    "])\n",
    "search_embeddings = np.array([\n",
    "    [1,2,-3,4] , \n",
    "])\n",
    "products = item_embeddings * search_embeddings \n",
    "print(f\"{item_embeddings.shape=} {search_embeddings.shape=}{products.shape=}\")"
   ]
  },
  {
   "cell_type": "code",
   "execution_count": 11,
   "id": "b39d9208",
   "metadata": {},
   "outputs": [
    {
     "data": {
      "text/plain": [
       "array([[  1,   4,   9,  16],\n",
       "       [  2,  -6,   6,  16],\n",
       "       [ -1,  -4,  -9, -16]])"
      ]
     },
     "execution_count": 11,
     "metadata": {},
     "output_type": "execute_result"
    }
   ],
   "source": [
    "products"
   ]
  },
  {
   "cell_type": "code",
   "execution_count": 12,
   "id": "b9bd045d",
   "metadata": {},
   "outputs": [
    {
     "data": {
      "text/plain": [
       "array([[ 30],\n",
       "       [ 18],\n",
       "       [-30]])"
      ]
     },
     "execution_count": 12,
     "metadata": {},
     "output_type": "execute_result"
    }
   ],
   "source": [
    "products.sum(axis=1, keepdims=True)"
   ]
  },
  {
   "cell_type": "code",
   "execution_count": 16,
   "id": "0e6ca4f2",
   "metadata": {},
   "outputs": [
    {
     "name": "stdout",
     "output_type": "stream",
     "text": [
      "[[ 30]\n",
      " [ 18]\n",
      " [-30]]\n"
     ]
    }
   ],
   "source": [
    "prod = np.matmul(item_embeddings, search_embeddings.T)\n",
    "print(prod)"
   ]
  },
  {
   "cell_type": "markdown",
   "id": "2c221bc6",
   "metadata": {},
   "source": [
    "ATTENTION SCORES"
   ]
  },
  {
   "cell_type": "code",
   "execution_count": 17,
   "id": "e8cde302",
   "metadata": {},
   "outputs": [
    {
     "data": {
      "text/plain": [
       "array([[0.99999386],\n",
       "       [0.00000614],\n",
       "       [0.        ]])"
      ]
     },
     "execution_count": 17,
     "metadata": {},
     "output_type": "execute_result"
    }
   ],
   "source": [
    "def softmax(x): \n",
    "    return np.exp(x) / np.sum(np.exp(x), axis=0, keepdims=True) \n",
    "attention_scores = softmax(prod)\n",
    "attention_scores"
   ]
  },
  {
   "cell_type": "markdown",
   "id": "1e9e66c0",
   "metadata": {},
   "source": [
    "Reducing skew"
   ]
  },
  {
   "cell_type": "code",
   "execution_count": 18,
   "id": "e265a1f0",
   "metadata": {},
   "outputs": [
    {
     "data": {
      "text/plain": [
       "array([[0.27363647],\n",
       "       [0.09441364],\n",
       "       [0.49294237],\n",
       "       [0.13900752]])"
      ]
     },
     "execution_count": 18,
     "metadata": {},
     "output_type": "execute_result"
    }
   ],
   "source": [
    "num_items = 4 \n",
    "num_queries = 1 \n",
    "embed_sie = 4 \n",
    "item_embeddings =np.random.uniform(-1, 1, size=(num_items, embed_sie))\n",
    "search_embeddings=np.random.uniform(-1,1,size=(num_queries, embed_sie)) \n",
    "prod = np.matmul(item_embeddings, search_embeddings.T) \n",
    "attention_scores =softmax(prod) \n",
    "attention_scores.shape\n",
    "attention_scores"
   ]
  },
  {
   "cell_type": "code",
   "execution_count": 21,
   "id": "62187e82",
   "metadata": {},
   "outputs": [
    {
     "data": {
      "text/plain": [
       "array([[0.23226602],\n",
       "       [0.22627515],\n",
       "       [0.24747212],\n",
       "       [0.2939867 ]])"
      ]
     },
     "execution_count": 21,
     "metadata": {},
     "output_type": "execute_result"
    }
   ],
   "source": [
    "num_items = 4 \n",
    "num_queries = 1 \n",
    "embed_sie = 100\n",
    "item_embeddings =np.random.uniform(-1, 1, size=(num_items, embed_sie))\n",
    "search_embeddings=np.random.uniform(-1,1,size=(num_queries, embed_sie)) \n",
    "prod = np.matmul(item_embeddings, search_embeddings.T)  / np.sqrt(embed_sie)\n",
    "attention_scores =softmax(prod) \n",
    "attention_scores.shape\n",
    "attention_scores"
   ]
  },
  {
   "cell_type": "markdown",
   "id": "5734ef38",
   "metadata": {},
   "source": [
    "Value Embeddings "
   ]
  },
  {
   "cell_type": "code",
   "execution_count": 22,
   "id": "2889a902",
   "metadata": {},
   "outputs": [],
   "source": [
    "def get_attention_scores(key_embeddings, query_embeddings):\n",
    "    \"\"\"\n",
    "    Compute attention scores between keys and queries using dot product and softmax.\n",
    "    key_embeddings: shape (num_keys, embed_size)\n",
    "    query_embeddings: shape (num_queries, embed_size)\n",
    "    Returns: attention scores of shape (num_keys, num_queries)\n",
    "    \"\"\"\n",
    "    # Dot product: (num_keys, embed_size) x (embed_size, num_queries) -> (num_keys, num_queries)\n",
    "    scores = np.matmul(key_embeddings, query_embeddings.T)\n",
    "    # Softmax over keys for each query\n",
    "    exp_scores = np.exp(scores)\n",
    "    attention_scores = exp_scores / np.sum(exp_scores, axis=0, keepdims=True)\n",
    "    return attention_scores"
   ]
  },
  {
   "cell_type": "code",
   "execution_count": 24,
   "id": "20640798",
   "metadata": {},
   "outputs": [
    {
     "data": {
      "text/plain": [
       "array([[0.07138134],\n",
       "       [0.23964482],\n",
       "       [0.68897384]])"
      ]
     },
     "execution_count": 24,
     "metadata": {},
     "output_type": "execute_result"
    }
   ],
   "source": [
    "num_keys = 3 \n",
    "num_queries = 1\n",
    "embed_sie = 4\n",
    "key_embeddings =np.random.uniform(-1, 1, size=(num_keys, embed_sie))\n",
    "query_embeddings=np.random.uniform(-1,1,size=(num_queries, embed_sie)) \n",
    "value_embeddings=np.random.uniform(-1,1,size=(num_keys ,embed_sie)) \n",
    "\n",
    "attention_scores = get_attention_scores(key_embeddings, query_embeddings) \n",
    "attention_scores"
   ]
  },
  {
   "cell_type": "code",
   "execution_count": 25,
   "id": "f1f62d1c",
   "metadata": {},
   "outputs": [
    {
     "data": {
      "text/plain": [
       "array([[-0.16994452,  0.59769374, -0.53446142, -0.33017852],\n",
       "       [-0.24584021, -0.58965713,  0.35116056,  0.84288964],\n",
       "       [-0.32435043,  0.95897066, -0.71679352,  0.93450711]])"
      ]
     },
     "execution_count": 25,
     "metadata": {},
     "output_type": "execute_result"
    }
   ],
   "source": [
    "value_embeddings"
   ]
  },
  {
   "cell_type": "code",
   "execution_count": 27,
   "id": "4f3ad2ee",
   "metadata": {},
   "outputs": [
    {
     "data": {
      "text/plain": [
       "(3, 1)"
      ]
     },
     "execution_count": 27,
     "metadata": {},
     "output_type": "execute_result"
    }
   ],
   "source": [
    "attention_scores.shape"
   ]
  },
  {
   "cell_type": "markdown",
   "id": "9f5494bf",
   "metadata": {},
   "source": [
    "Context Embeddings"
   ]
  },
  {
   "cell_type": "code",
   "execution_count": 28,
   "id": "3a1b297d",
   "metadata": {},
   "outputs": [
    {
     "data": {
      "text/plain": [
       "array([[-0.29451416,  0.5620616 , -0.44784875,  0.8222765 ]])"
      ]
     },
     "execution_count": 28,
     "metadata": {},
     "output_type": "execute_result"
    }
   ],
   "source": [
    "context_embeddings = np.matmul(attention_scores.T, value_embeddings) \n",
    "context_embeddings"
   ]
  },
  {
   "cell_type": "code",
   "execution_count": 29,
   "id": "695cf364",
   "metadata": {},
   "outputs": [
    {
     "name": "stdout",
     "output_type": "stream",
     "text": [
      "[0.19114204 0.09648469 0.08536132 0.11422612]\n",
      "[ 0.16206419  0.35809862  0.04234883 -0.18992497]\n",
      "[-0.35441847  0.28567696  0.17452248 -0.13050264]\n"
     ]
    }
   ],
   "source": [
    "\n",
    "# Attention scores (assuming these are scalar values for each key)\n",
    "attention_score_key_0 = 0.2730459 # attention_scores[0] ?\n",
    "attention_score_key_1 = 0.3755589 # attention_scores[1] ?\n",
    "attention_score_key_2 = 0.39713952 # attention_scores[2] ?\n",
    "\n",
    "# Value embeddings (assuming these are vectors for each key)\n",
    "value_embeddings_0 = np.array([0.70003629, 0.35336437, 0.31262625, 0.41834036]) # value_embeddings[0]\n",
    "value_embeddings_1 = np.array([0.43152803, 0.95350855, 0.11276216, -0.50571287]) # value_embeddings[1]\n",
    "value_embeddings_2 = np.array([-0.89242811, 0.71933651, 0.43944879, -0.32860654]) # value_embeddings[2]\n",
    "\n",
    "# Calculate contribution from each key\n",
    "# This is a weighted sum, where each value embedding is scaled by its corresponding attention score.\n",
    "contribution_from_key_0 = attention_score_key_0 * value_embeddings_0\n",
    "contribution_from_key_1 = attention_score_key_1 * value_embeddings_1\n",
    "contribution_from_key_2 = attention_score_key_2 * value_embeddings_2\n",
    "\n",
    "# Print the contributions\n",
    "print(contribution_from_key_0)\n",
    "print(contribution_from_key_1)\n",
    "print(contribution_from_key_2)\n"
   ]
  },
  {
   "cell_type": "code",
   "execution_count": 30,
   "id": "dd31f80f",
   "metadata": {},
   "outputs": [
    {
     "data": {
      "text/plain": [
       "array([-0.00121224,  0.74026027,  0.30223263, -0.20620149])"
      ]
     },
     "execution_count": 30,
     "metadata": {},
     "output_type": "execute_result"
    }
   ],
   "source": [
    "context_embeddings = contribution_from_key_0 + contribution_from_key_1 + contribution_from_key_2 \n",
    "context_embeddings"
   ]
  },
  {
   "cell_type": "code",
   "execution_count": 31,
   "id": "be82d12b",
   "metadata": {},
   "outputs": [
    {
     "data": {
      "text/plain": [
       "array([[0.54998536, 1.55384765, 0.54417931, 0.55439671]])"
      ]
     },
     "execution_count": 31,
     "metadata": {},
     "output_type": "execute_result"
    }
   ],
   "source": [
    "context_embeddings + query_embeddings"
   ]
  }
 ],
 "metadata": {
  "kernelspec": {
   "display_name": "Python 3",
   "language": "python",
   "name": "python3"
  },
  "language_info": {
   "codemirror_mode": {
    "name": "ipython",
    "version": 3
   },
   "file_extension": ".py",
   "mimetype": "text/x-python",
   "name": "python",
   "nbconvert_exporter": "python",
   "pygments_lexer": "ipython3",
   "version": "3.13.2"
  }
 },
 "nbformat": 4,
 "nbformat_minor": 5
}
